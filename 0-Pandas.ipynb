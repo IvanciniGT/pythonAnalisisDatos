{
 "cells": [
  {
   "cell_type": "markdown",
   "id": "0c5a7179-ccda-40df-b632-55a6516f5f21",
   "metadata": {},
   "source": [
    "# Pandas\n",
    "\n",
    "Libreria para analis/manipulación de datos. Es una copia de la sintaxis de MATLAB.\n",
    "\n",
    "# DataFrame\n",
    "\n",
    "Es una colección de \"Series\" de datos. Es el equivalente a una table de una BBDD, EXCEL.\n",
    "\n",
    "# Serie de datos\n",
    "\n",
    "Viene a ser el equivalente a una columna de una tabla de una BBDD.\n",
    "\n",
    "De cara a usar Pandas, necesitamos instalar esa libreria en python.\n",
    "\n",
    "```sh\n",
    "$ pip install pandas\n",
    "```\n",
    "\n",
    "Además, como cualquier libreria, necesitamos importarla en python.\n",
    "\n",
    "``` py\n",
    "import pandas as pd\n",
    "```"
   ]
  },
  {
   "cell_type": "code",
   "execution_count": 1,
   "id": "53937de4-dce8-4a76-8250-92e6f2d000cc",
   "metadata": {},
   "outputs": [],
   "source": [
    "import pandas as pd"
   ]
  },
  {
   "cell_type": "code",
   "execution_count": 3,
   "id": "57bedb65-8be9-4de3-a202-8c271bafe448",
   "metadata": {},
   "outputs": [
    {
     "name": "stdout",
     "output_type": "stream",
     "text": [
      "Empty DataFrame\n",
      "Columns: []\n",
      "Index: []\n"
     ]
    }
   ],
   "source": [
    "# Crear un dataframe\n",
    "\n",
    "dataframe_vacio = pd.DataFrame()\n",
    "print(dataframe_vacio)"
   ]
  },
  {
   "cell_type": "code",
   "execution_count": 4,
   "id": "636d6c94-e7a7-42e6-a35e-6d65d0850f01",
   "metadata": {},
   "outputs": [
    {
     "name": "stdout",
     "output_type": "stream",
     "text": [
      "       0\n",
      "0   Ivan\n",
      "1  David\n",
      "2   Jero\n",
      "3  Jesús\n"
     ]
    }
   ],
   "source": [
    "nombres = (\"Ivan\", \"David\", \"Jero\", \"Jesús\") # Tupla\n",
    "datos_nombres = pd.DataFrame(nombres)\n",
    "print(datos_nombres)"
   ]
  },
  {
   "cell_type": "code",
   "execution_count": 5,
   "id": "563e8f67-3466-4db9-9778-6d5602ad6300",
   "metadata": {},
   "outputs": [
    {
     "data": {
      "text/plain": [
       "RangeIndex(start=0, stop=1, step=1)"
      ]
     },
     "execution_count": 5,
     "metadata": {},
     "output_type": "execute_result"
    }
   ],
   "source": [
    "datos_nombres.columns"
   ]
  },
  {
   "cell_type": "code",
   "execution_count": 6,
   "id": "09fdbd5d-39f2-409f-bb89-bbcbb285e5d2",
   "metadata": {},
   "outputs": [
    {
     "data": {
      "text/plain": [
       "RangeIndex(start=0, stop=4, step=1)"
      ]
     },
     "execution_count": 6,
     "metadata": {},
     "output_type": "execute_result"
    }
   ],
   "source": [
    "datos_nombres.index"
   ]
  },
  {
   "cell_type": "code",
   "execution_count": 7,
   "id": "764ee215-400f-41ab-b9ba-c61deb9083e7",
   "metadata": {},
   "outputs": [],
   "source": [
    "datos_nombres.columns = [\"Nombre\"]"
   ]
  },
  {
   "cell_type": "code",
   "execution_count": 8,
   "id": "e9f4adef-139c-4e50-b592-a2afb4a000d7",
   "metadata": {},
   "outputs": [
    {
     "name": "stdout",
     "output_type": "stream",
     "text": [
      "  Nombre\n",
      "0   Ivan\n",
      "1  David\n",
      "2   Jero\n",
      "3  Jesús\n"
     ]
    }
   ],
   "source": [
    "print(datos_nombres)"
   ]
  },
  {
   "cell_type": "code",
   "execution_count": 9,
   "id": "8b40aca2-aef0-444d-bbb2-ea55177e3276",
   "metadata": {},
   "outputs": [
    {
     "name": "stdout",
     "output_type": "stream",
     "text": [
      "  Nombre\n",
      "0   Ivan\n",
      "1  David\n",
      "2   Jero\n",
      "3  Jesús\n"
     ]
    }
   ],
   "source": [
    "datos_nombres_2 = pd.DataFrame(nombres, columns= [\"Nombre\"])\n",
    "print(datos_nombres_2)"
   ]
  },
  {
   "cell_type": "code",
   "execution_count": 15,
   "id": "77e2a9f6-8323-40a9-9932-f448cca86a5c",
   "metadata": {},
   "outputs": [
    {
     "data": {
      "text/html": [
       "<div>\n",
       "<style scoped>\n",
       "    .dataframe tbody tr th:only-of-type {\n",
       "        vertical-align: middle;\n",
       "    }\n",
       "\n",
       "    .dataframe tbody tr th {\n",
       "        vertical-align: top;\n",
       "    }\n",
       "\n",
       "    .dataframe thead th {\n",
       "        text-align: right;\n",
       "    }\n",
       "</style>\n",
       "<table border=\"1\" class=\"dataframe\">\n",
       "  <thead>\n",
       "    <tr style=\"text-align: right;\">\n",
       "      <th></th>\n",
       "      <th>Nombre</th>\n",
       "      <th>Edad</th>\n",
       "    </tr>\n",
       "  </thead>\n",
       "  <tbody>\n",
       "    <tr>\n",
       "      <th>0</th>\n",
       "      <td>Ivan</td>\n",
       "      <td>32</td>\n",
       "    </tr>\n",
       "    <tr>\n",
       "      <th>1</th>\n",
       "      <td>David</td>\n",
       "      <td>28</td>\n",
       "    </tr>\n",
       "    <tr>\n",
       "      <th>2</th>\n",
       "      <td>Jero</td>\n",
       "      <td>40</td>\n",
       "    </tr>\n",
       "    <tr>\n",
       "      <th>3</th>\n",
       "      <td>Jesús</td>\n",
       "      <td>33</td>\n",
       "    </tr>\n",
       "  </tbody>\n",
       "</table>\n",
       "</div>"
      ],
      "text/plain": [
       "  Nombre  Edad\n",
       "0   Ivan    32\n",
       "1  David    28\n",
       "2   Jero    40\n",
       "3  Jesús    33"
      ]
     },
     "execution_count": 15,
     "metadata": {},
     "output_type": "execute_result"
    }
   ],
   "source": [
    "datos_personas = ( (\"Ivan\", 32), (\"David\",28), (\"Jero\",40), (\"Jesús\",33) )\n",
    "personas = pd.DataFrame(datos_personas, columns= [\"Nombre\", \"Edad\"])\n",
    "personas"
   ]
  },
  {
   "cell_type": "code",
   "execution_count": 16,
   "id": "c41a26b8-2e57-45b0-93d8-45afb8a126b5",
   "metadata": {},
   "outputs": [
    {
     "data": {
      "text/plain": [
       "2"
      ]
     },
     "execution_count": 16,
     "metadata": {},
     "output_type": "execute_result"
    }
   ],
   "source": [
    "personas.ndim"
   ]
  },
  {
   "cell_type": "code",
   "execution_count": 17,
   "id": "f24e57bf-d2fe-4364-ac3a-f66eeeee805c",
   "metadata": {},
   "outputs": [
    {
     "data": {
      "text/plain": [
       "(4, 2)"
      ]
     },
     "execution_count": 17,
     "metadata": {},
     "output_type": "execute_result"
    }
   ],
   "source": [
    "personas.shape"
   ]
  },
  {
   "cell_type": "code",
   "execution_count": 18,
   "id": "2e0f5d15-4207-41a7-9d4b-98d2e549981e",
   "metadata": {},
   "outputs": [
    {
     "data": {
      "text/plain": [
       "4"
      ]
     },
     "execution_count": 18,
     "metadata": {},
     "output_type": "execute_result"
    }
   ],
   "source": [
    "personas.shape[0]"
   ]
  },
  {
   "cell_type": "code",
   "execution_count": 19,
   "id": "401b97d9-c35c-4815-8064-7035ba3fb5c3",
   "metadata": {},
   "outputs": [
    {
     "data": {
      "text/plain": [
       "8"
      ]
     },
     "execution_count": 19,
     "metadata": {},
     "output_type": "execute_result"
    }
   ],
   "source": [
    "personas.size"
   ]
  },
  {
   "cell_type": "code",
   "execution_count": 20,
   "id": "38e124f9-307a-4b7b-b457-c631a5608114",
   "metadata": {},
   "outputs": [
    {
     "data": {
      "text/html": [
       "<div>\n",
       "<style scoped>\n",
       "    .dataframe tbody tr th:only-of-type {\n",
       "        vertical-align: middle;\n",
       "    }\n",
       "\n",
       "    .dataframe tbody tr th {\n",
       "        vertical-align: top;\n",
       "    }\n",
       "\n",
       "    .dataframe thead th {\n",
       "        text-align: right;\n",
       "    }\n",
       "</style>\n",
       "<table border=\"1\" class=\"dataframe\">\n",
       "  <thead>\n",
       "    <tr style=\"text-align: right;\">\n",
       "      <th></th>\n",
       "      <th>Nombre</th>\n",
       "      <th>Edad</th>\n",
       "    </tr>\n",
       "  </thead>\n",
       "  <tbody>\n",
       "    <tr>\n",
       "      <th>0</th>\n",
       "      <td>Ivan</td>\n",
       "      <td>32</td>\n",
       "    </tr>\n",
       "    <tr>\n",
       "      <th>1</th>\n",
       "      <td>David</td>\n",
       "      <td>28</td>\n",
       "    </tr>\n",
       "  </tbody>\n",
       "</table>\n",
       "</div>"
      ],
      "text/plain": [
       "  Nombre  Edad\n",
       "0   Ivan    32\n",
       "1  David    28"
      ]
     },
     "execution_count": 20,
     "metadata": {},
     "output_type": "execute_result"
    }
   ],
   "source": [
    "personas.head(2)"
   ]
  },
  {
   "cell_type": "code",
   "execution_count": 21,
   "id": "8950b775-9156-4d38-8443-10a4e0af70fa",
   "metadata": {},
   "outputs": [
    {
     "data": {
      "text/html": [
       "<div>\n",
       "<style scoped>\n",
       "    .dataframe tbody tr th:only-of-type {\n",
       "        vertical-align: middle;\n",
       "    }\n",
       "\n",
       "    .dataframe tbody tr th {\n",
       "        vertical-align: top;\n",
       "    }\n",
       "\n",
       "    .dataframe thead th {\n",
       "        text-align: right;\n",
       "    }\n",
       "</style>\n",
       "<table border=\"1\" class=\"dataframe\">\n",
       "  <thead>\n",
       "    <tr style=\"text-align: right;\">\n",
       "      <th></th>\n",
       "      <th>Nombre</th>\n",
       "      <th>Edad</th>\n",
       "    </tr>\n",
       "  </thead>\n",
       "  <tbody>\n",
       "    <tr>\n",
       "      <th>2</th>\n",
       "      <td>Jero</td>\n",
       "      <td>40</td>\n",
       "    </tr>\n",
       "    <tr>\n",
       "      <th>3</th>\n",
       "      <td>Jesús</td>\n",
       "      <td>33</td>\n",
       "    </tr>\n",
       "  </tbody>\n",
       "</table>\n",
       "</div>"
      ],
      "text/plain": [
       "  Nombre  Edad\n",
       "2   Jero    40\n",
       "3  Jesús    33"
      ]
     },
     "execution_count": 21,
     "metadata": {},
     "output_type": "execute_result"
    }
   ],
   "source": [
    "personas.tail(2)"
   ]
  },
  {
   "cell_type": "code",
   "execution_count": 29,
   "id": "72d7aa9e-748a-4532-be13-8b0890135764",
   "metadata": {},
   "outputs": [
    {
     "data": {
      "text/plain": [
       "0    32\n",
       "1    28\n",
       "2    40\n",
       "3    33\n",
       "Name: Edad, dtype: int64"
      ]
     },
     "execution_count": 29,
     "metadata": {},
     "output_type": "execute_result"
    }
   ],
   "source": [
    "personas [\"Edad\"]"
   ]
  },
  {
   "cell_type": "code",
   "execution_count": 23,
   "id": "8c092022-6810-44fd-a9a5-4fa323ba19a2",
   "metadata": {},
   "outputs": [],
   "source": [
    "# En pandas, las series de datos, (las columnas) tienen cada una su tipo de datos, que se aplcia a todas las filas."
   ]
  },
  {
   "cell_type": "code",
   "execution_count": 26,
   "id": "950641c8-0337-4b82-a314-d9c1f000ae59",
   "metadata": {},
   "outputs": [
    {
     "data": {
      "text/plain": [
       "Nombre    Jero\n",
       "Edad        40\n",
       "Name: 2, dtype: object"
      ]
     },
     "execution_count": 26,
     "metadata": {},
     "output_type": "execute_result"
    }
   ],
   "source": [
    "personas.iloc[2]"
   ]
  },
  {
   "cell_type": "code",
   "execution_count": 27,
   "id": "64aab41c-a754-48b7-bd71-0b9332a66354",
   "metadata": {},
   "outputs": [
    {
     "data": {
      "text/plain": [
       "40"
      ]
     },
     "execution_count": 27,
     "metadata": {},
     "output_type": "execute_result"
    }
   ],
   "source": [
    "personas.iloc[2][\"Edad\"]"
   ]
  },
  {
   "cell_type": "code",
   "execution_count": 31,
   "id": "ea77d177-4069-4e59-b263-4664143f309f",
   "metadata": {},
   "outputs": [
    {
     "data": {
      "text/html": [
       "<div>\n",
       "<style scoped>\n",
       "    .dataframe tbody tr th:only-of-type {\n",
       "        vertical-align: middle;\n",
       "    }\n",
       "\n",
       "    .dataframe tbody tr th {\n",
       "        vertical-align: top;\n",
       "    }\n",
       "\n",
       "    .dataframe thead th {\n",
       "        text-align: right;\n",
       "    }\n",
       "</style>\n",
       "<table border=\"1\" class=\"dataframe\">\n",
       "  <thead>\n",
       "    <tr style=\"text-align: right;\">\n",
       "      <th></th>\n",
       "      <th>Nombre</th>\n",
       "      <th>Edad</th>\n",
       "    </tr>\n",
       "    <tr>\n",
       "      <th>Nombre</th>\n",
       "      <th></th>\n",
       "      <th></th>\n",
       "    </tr>\n",
       "  </thead>\n",
       "  <tbody>\n",
       "    <tr>\n",
       "      <th>Ivan</th>\n",
       "      <td>Ivan</td>\n",
       "      <td>32</td>\n",
       "    </tr>\n",
       "    <tr>\n",
       "      <th>David</th>\n",
       "      <td>David</td>\n",
       "      <td>28</td>\n",
       "    </tr>\n",
       "    <tr>\n",
       "      <th>Jero</th>\n",
       "      <td>Jero</td>\n",
       "      <td>40</td>\n",
       "    </tr>\n",
       "    <tr>\n",
       "      <th>Jesús</th>\n",
       "      <td>Jesús</td>\n",
       "      <td>33</td>\n",
       "    </tr>\n",
       "  </tbody>\n",
       "</table>\n",
       "</div>"
      ],
      "text/plain": [
       "       Nombre  Edad\n",
       "Nombre             \n",
       "Ivan     Ivan    32\n",
       "David   David    28\n",
       "Jero     Jero    40\n",
       "Jesús   Jesús    33"
      ]
     },
     "execution_count": 31,
     "metadata": {},
     "output_type": "execute_result"
    }
   ],
   "source": [
    "personas.index=personas[\"Nombre\"]\n",
    "\n",
    "personas"
   ]
  },
  {
   "cell_type": "code",
   "execution_count": 32,
   "id": "a2f453d0-4516-482c-8cba-cd7b57c93003",
   "metadata": {},
   "outputs": [
    {
     "data": {
      "text/plain": [
       "Nombre    Jero\n",
       "Edad        40\n",
       "Name: Jero, dtype: object"
      ]
     },
     "execution_count": 32,
     "metadata": {},
     "output_type": "execute_result"
    }
   ],
   "source": [
    "personas.iloc[2]"
   ]
  },
  {
   "cell_type": "code",
   "execution_count": 33,
   "id": "46b912f0-0255-4378-b467-9cd739d228d9",
   "metadata": {},
   "outputs": [
    {
     "data": {
      "text/plain": [
       "Nombre    Jero\n",
       "Edad        40\n",
       "Name: Jero, dtype: object"
      ]
     },
     "execution_count": 33,
     "metadata": {},
     "output_type": "execute_result"
    }
   ],
   "source": [
    "personas.loc[\"Jero\"]"
   ]
  },
  {
   "cell_type": "code",
   "execution_count": 34,
   "id": "f5b9e9b2-474a-4f24-990d-a4ea3b49852c",
   "metadata": {},
   "outputs": [
    {
     "data": {
      "text/html": [
       "<div>\n",
       "<style scoped>\n",
       "    .dataframe tbody tr th:only-of-type {\n",
       "        vertical-align: middle;\n",
       "    }\n",
       "\n",
       "    .dataframe tbody tr th {\n",
       "        vertical-align: top;\n",
       "    }\n",
       "\n",
       "    .dataframe thead th {\n",
       "        text-align: right;\n",
       "    }\n",
       "</style>\n",
       "<table border=\"1\" class=\"dataframe\">\n",
       "  <thead>\n",
       "    <tr style=\"text-align: right;\">\n",
       "      <th></th>\n",
       "      <th>nombres</th>\n",
       "      <th>edades</th>\n",
       "    </tr>\n",
       "  </thead>\n",
       "  <tbody>\n",
       "    <tr>\n",
       "      <th>0</th>\n",
       "      <td>Ivan</td>\n",
       "      <td>32</td>\n",
       "    </tr>\n",
       "    <tr>\n",
       "      <th>1</th>\n",
       "      <td>David</td>\n",
       "      <td>28</td>\n",
       "    </tr>\n",
       "    <tr>\n",
       "      <th>2</th>\n",
       "      <td>Jero</td>\n",
       "      <td>40</td>\n",
       "    </tr>\n",
       "    <tr>\n",
       "      <th>3</th>\n",
       "      <td>Jesús</td>\n",
       "      <td>33</td>\n",
       "    </tr>\n",
       "  </tbody>\n",
       "</table>\n",
       "</div>"
      ],
      "text/plain": [
       "  nombres  edades\n",
       "0    Ivan      32\n",
       "1   David      28\n",
       "2    Jero      40\n",
       "3   Jesús      33"
      ]
     },
     "execution_count": 34,
     "metadata": {},
     "output_type": "execute_result"
    }
   ],
   "source": [
    "datos_nombres = ( \"Ivan\", \"David\", \"Jero\", \"Jesús\" )\n",
    "datos_edades = ( 32,28, 40, 33 ) \n",
    "diccionario_personas = { \"nombres\": datos_nombres , \"edades\": datos_edades}\n",
    "personas = pd.DataFrame(diccionario_personas)\n",
    "personas"
   ]
  },
  {
   "cell_type": "code",
   "execution_count": 37,
   "id": "8c8ae002-e7b4-404a-9edd-f36359954132",
   "metadata": {},
   "outputs": [
    {
     "name": "stdout",
     "output_type": "stream",
     "text": [
      "nombres    Ivan\n",
      "edades       32\n",
      "Name: 0, dtype: object\n",
      "nombres    David\n",
      "edades        28\n",
      "Name: 1, dtype: object\n",
      "nombres    Jero\n",
      "edades       40\n",
      "Name: 2, dtype: object\n",
      "nombres    Jesús\n",
      "edades        33\n",
      "Name: 3, dtype: object\n"
     ]
    }
   ],
   "source": [
    "for fila in personas.index:\n",
    "    print(personas.iloc[fila])"
   ]
  },
  {
   "cell_type": "code",
   "execution_count": 38,
   "id": "8a5196b7-204d-46f4-8a8e-e80ec308576e",
   "metadata": {},
   "outputs": [
    {
     "name": "stdout",
     "output_type": "stream",
     "text": [
      "0     Ivan\n",
      "1    David\n",
      "2     Jero\n",
      "3    Jesús\n",
      "Name: nombres, dtype: object\n",
      "0    32\n",
      "1    28\n",
      "2    40\n",
      "3    33\n",
      "Name: edades, dtype: int64\n"
     ]
    }
   ],
   "source": [
    "for columna in personas.columns:\n",
    "    print(personas[columna])"
   ]
  },
  {
   "cell_type": "code",
   "execution_count": 42,
   "id": "5b783820-a7bd-4611-ab79-79db12bd1a71",
   "metadata": {},
   "outputs": [
    {
     "name": "stdout",
     "output_type": "stream",
     "text": [
      "Ivan\n",
      "Ivan\n",
      "32\n",
      "32\n",
      "David\n",
      "David\n",
      "28\n",
      "28\n",
      "Jero\n",
      "Jero\n",
      "40\n",
      "40\n",
      "Jesús\n",
      "Jesús\n",
      "33\n",
      "33\n"
     ]
    }
   ],
   "source": [
    "for fila in personas.index:\n",
    "    for columna in personas.columns:\n",
    "        print(personas[columna].iloc[fila])\n",
    "        print(personas[columna][fila])\n"
   ]
  },
  {
   "cell_type": "code",
   "execution_count": 43,
   "id": "4a49ce42-e12e-4d90-8c16-2f71f1ddac90",
   "metadata": {},
   "outputs": [
    {
     "name": "stdout",
     "output_type": "stream",
     "text": [
      "<class 'pandas.core.frame.DataFrame'>\n",
      "RangeIndex: 4 entries, 0 to 3\n",
      "Data columns (total 2 columns):\n",
      " #   Column   Non-Null Count  Dtype \n",
      "---  ------   --------------  ----- \n",
      " 0   nombres  4 non-null      object\n",
      " 1   edades   4 non-null      int64 \n",
      "dtypes: int64(1), object(1)\n",
      "memory usage: 192.0+ bytes\n"
     ]
    }
   ],
   "source": [
    "personas.info()"
   ]
  },
  {
   "cell_type": "code",
   "execution_count": 44,
   "id": "228a3a18-bf5d-4263-ba48-4aba0dc1aa80",
   "metadata": {},
   "outputs": [
    {
     "data": {
      "text/plain": [
       "nombres    object\n",
       "edades      int64\n",
       "dtype: object"
      ]
     },
     "execution_count": 44,
     "metadata": {},
     "output_type": "execute_result"
    }
   ],
   "source": [
    "personas.dtypes"
   ]
  },
  {
   "cell_type": "code",
   "execution_count": 47,
   "id": "3cb148b5-a449-4f9c-b5b3-3d32909a5148",
   "metadata": {},
   "outputs": [
    {
     "data": {
      "text/plain": [
       "0    32\n",
       "1    28\n",
       "2    40\n",
       "3    33\n",
       "Name: edades, dtype: int64"
      ]
     },
     "execution_count": 47,
     "metadata": {},
     "output_type": "execute_result"
    }
   ],
   "source": [
    "personas[\"edades\"] # Devuelve una columna"
   ]
  },
  {
   "cell_type": "code",
   "execution_count": 48,
   "id": "30893d13-c161-4653-9771-e2542bfca396",
   "metadata": {},
   "outputs": [
    {
     "data": {
      "text/plain": [
       "nombres    Jero\n",
       "edades       40\n",
       "Name: 2, dtype: object"
      ]
     },
     "execution_count": 48,
     "metadata": {},
     "output_type": "execute_result"
    }
   ],
   "source": [
    "personas.iloc[2]"
   ]
  },
  {
   "cell_type": "code",
   "execution_count": 49,
   "id": "46c3901d-8ee8-4008-aa61-4d51b1630ef1",
   "metadata": {},
   "outputs": [
    {
     "data": {
      "text/html": [
       "<div>\n",
       "<style scoped>\n",
       "    .dataframe tbody tr th:only-of-type {\n",
       "        vertical-align: middle;\n",
       "    }\n",
       "\n",
       "    .dataframe tbody tr th {\n",
       "        vertical-align: top;\n",
       "    }\n",
       "\n",
       "    .dataframe thead th {\n",
       "        text-align: right;\n",
       "    }\n",
       "</style>\n",
       "<table border=\"1\" class=\"dataframe\">\n",
       "  <thead>\n",
       "    <tr style=\"text-align: right;\">\n",
       "      <th></th>\n",
       "      <th>nombres</th>\n",
       "      <th>edades</th>\n",
       "    </tr>\n",
       "  </thead>\n",
       "  <tbody>\n",
       "    <tr>\n",
       "      <th>1</th>\n",
       "      <td>David</td>\n",
       "      <td>28</td>\n",
       "    </tr>\n",
       "    <tr>\n",
       "      <th>2</th>\n",
       "      <td>Jero</td>\n",
       "      <td>40</td>\n",
       "    </tr>\n",
       "  </tbody>\n",
       "</table>\n",
       "</div>"
      ],
      "text/plain": [
       "  nombres  edades\n",
       "1   David      28\n",
       "2    Jero      40"
      ]
     },
     "execution_count": 49,
     "metadata": {},
     "output_type": "execute_result"
    }
   ],
   "source": [
    "personas[1:3]  # Filtramos filas"
   ]
  },
  {
   "cell_type": "code",
   "execution_count": 55,
   "id": "9baf579a-4da7-49a0-9359-2c60658f3543",
   "metadata": {},
   "outputs": [
    {
     "data": {
      "text/html": [
       "<div>\n",
       "<style scoped>\n",
       "    .dataframe tbody tr th:only-of-type {\n",
       "        vertical-align: middle;\n",
       "    }\n",
       "\n",
       "    .dataframe tbody tr th {\n",
       "        vertical-align: top;\n",
       "    }\n",
       "\n",
       "    .dataframe thead th {\n",
       "        text-align: right;\n",
       "    }\n",
       "</style>\n",
       "<table border=\"1\" class=\"dataframe\">\n",
       "  <thead>\n",
       "    <tr style=\"text-align: right;\">\n",
       "      <th></th>\n",
       "      <th>nombres</th>\n",
       "      <th>edades</th>\n",
       "    </tr>\n",
       "  </thead>\n",
       "  <tbody>\n",
       "    <tr>\n",
       "      <th>1</th>\n",
       "      <td>David</td>\n",
       "      <td>28</td>\n",
       "    </tr>\n",
       "    <tr>\n",
       "      <th>2</th>\n",
       "      <td>Jero</td>\n",
       "      <td>40</td>\n",
       "    </tr>\n",
       "  </tbody>\n",
       "</table>\n",
       "</div>"
      ],
      "text/plain": [
       "  nombres  edades\n",
       "1   David      28\n",
       "2    Jero      40"
      ]
     },
     "execution_count": 55,
     "metadata": {},
     "output_type": "execute_result"
    }
   ],
   "source": [
    "personas.iloc[1:3,0:2]  # Filtramos filas y columnas\n",
    "              # Rango Filas\n",
    "                  # Rango columnas\n",
    "            "
   ]
  },
  {
   "cell_type": "code",
   "execution_count": 56,
   "id": "39119a58-95dc-4657-8bca-47ebdf90fcac",
   "metadata": {},
   "outputs": [
    {
     "data": {
      "text/plain": [
       "0    32\n",
       "1    28\n",
       "2    40\n",
       "3    33\n",
       "Name: edades, dtype: int64"
      ]
     },
     "execution_count": 56,
     "metadata": {},
     "output_type": "execute_result"
    }
   ],
   "source": [
    "personas.iloc[:,1] # Todas las filas de la segunda columna\n"
   ]
  },
  {
   "cell_type": "code",
   "execution_count": 64,
   "id": "30db41ae-241a-4796-9bc1-5c631c296699",
   "metadata": {},
   "outputs": [],
   "source": [
    "personas[\"calculada\"]=personas[\"edades\"]+personas[\"edades\"]*personas[\"edades\"]"
   ]
  },
  {
   "cell_type": "code",
   "execution_count": 65,
   "id": "b7adeb63-909a-4718-a633-701a230b23f4",
   "metadata": {},
   "outputs": [
    {
     "data": {
      "text/html": [
       "<div>\n",
       "<style scoped>\n",
       "    .dataframe tbody tr th:only-of-type {\n",
       "        vertical-align: middle;\n",
       "    }\n",
       "\n",
       "    .dataframe tbody tr th {\n",
       "        vertical-align: top;\n",
       "    }\n",
       "\n",
       "    .dataframe thead th {\n",
       "        text-align: right;\n",
       "    }\n",
       "</style>\n",
       "<table border=\"1\" class=\"dataframe\">\n",
       "  <thead>\n",
       "    <tr style=\"text-align: right;\">\n",
       "      <th></th>\n",
       "      <th>nombres</th>\n",
       "      <th>edades</th>\n",
       "      <th>calculada</th>\n",
       "    </tr>\n",
       "  </thead>\n",
       "  <tbody>\n",
       "    <tr>\n",
       "      <th>0</th>\n",
       "      <td>Ivan</td>\n",
       "      <td>32</td>\n",
       "      <td>1056</td>\n",
       "    </tr>\n",
       "    <tr>\n",
       "      <th>1</th>\n",
       "      <td>David</td>\n",
       "      <td>28</td>\n",
       "      <td>812</td>\n",
       "    </tr>\n",
       "    <tr>\n",
       "      <th>2</th>\n",
       "      <td>Jero</td>\n",
       "      <td>40</td>\n",
       "      <td>1640</td>\n",
       "    </tr>\n",
       "    <tr>\n",
       "      <th>3</th>\n",
       "      <td>Jesús</td>\n",
       "      <td>33</td>\n",
       "      <td>1122</td>\n",
       "    </tr>\n",
       "  </tbody>\n",
       "</table>\n",
       "</div>"
      ],
      "text/plain": [
       "  nombres  edades  calculada\n",
       "0    Ivan      32       1056\n",
       "1   David      28        812\n",
       "2    Jero      40       1640\n",
       "3   Jesús      33       1122"
      ]
     },
     "execution_count": 65,
     "metadata": {},
     "output_type": "execute_result"
    }
   ],
   "source": [
    "personas"
   ]
  },
  {
   "cell_type": "code",
   "execution_count": 66,
   "id": "7a47f0b7-3f3d-4748-856c-9b9008e510be",
   "metadata": {},
   "outputs": [
    {
     "data": {
      "text/html": [
       "<div>\n",
       "<style scoped>\n",
       "    .dataframe tbody tr th:only-of-type {\n",
       "        vertical-align: middle;\n",
       "    }\n",
       "\n",
       "    .dataframe tbody tr th {\n",
       "        vertical-align: top;\n",
       "    }\n",
       "\n",
       "    .dataframe thead th {\n",
       "        text-align: right;\n",
       "    }\n",
       "</style>\n",
       "<table border=\"1\" class=\"dataframe\">\n",
       "  <thead>\n",
       "    <tr style=\"text-align: right;\">\n",
       "      <th></th>\n",
       "      <th>nombres</th>\n",
       "      <th>edades</th>\n",
       "    </tr>\n",
       "  </thead>\n",
       "  <tbody>\n",
       "    <tr>\n",
       "      <th>0</th>\n",
       "      <td>Ivan</td>\n",
       "      <td>32</td>\n",
       "    </tr>\n",
       "    <tr>\n",
       "      <th>1</th>\n",
       "      <td>David</td>\n",
       "      <td>28</td>\n",
       "    </tr>\n",
       "    <tr>\n",
       "      <th>2</th>\n",
       "      <td>Jero</td>\n",
       "      <td>40</td>\n",
       "    </tr>\n",
       "    <tr>\n",
       "      <th>3</th>\n",
       "      <td>Jesús</td>\n",
       "      <td>33</td>\n",
       "    </tr>\n",
       "  </tbody>\n",
       "</table>\n",
       "</div>"
      ],
      "text/plain": [
       "  nombres  edades\n",
       "0    Ivan      32\n",
       "1   David      28\n",
       "2    Jero      40\n",
       "3   Jesús      33"
      ]
     },
     "execution_count": 66,
     "metadata": {},
     "output_type": "execute_result"
    }
   ],
   "source": [
    "columna_eliminada = personas.pop(\"calculada\")\n",
    "personas"
   ]
  },
  {
   "cell_type": "code",
   "execution_count": 67,
   "id": "80dfb9b9-a4d5-447b-8a5f-98abc92a4b92",
   "metadata": {},
   "outputs": [
    {
     "data": {
      "text/plain": [
       "0    1056\n",
       "1     812\n",
       "2    1640\n",
       "3    1122\n",
       "Name: calculada, dtype: int64"
      ]
     },
     "execution_count": 67,
     "metadata": {},
     "output_type": "execute_result"
    }
   ],
   "source": [
    "columna_eliminada"
   ]
  },
  {
   "cell_type": "code",
   "execution_count": 70,
   "id": "c6c416b8-9cdc-42ac-a15b-7e6aca8d2f85",
   "metadata": {},
   "outputs": [
    {
     "data": {
      "text/plain": [
       "50"
      ]
     },
     "execution_count": 70,
     "metadata": {},
     "output_type": "execute_result"
    }
   ],
   "source": [
    "def doblar(numero):\n",
    "    return numero*2\n",
    "\n",
    "doblar(25)"
   ]
  },
  {
   "cell_type": "code",
   "execution_count": 74,
   "id": "4a7018d6-a9b0-4952-8804-ab10ec87d9ec",
   "metadata": {},
   "outputs": [
    {
     "data": {
      "text/plain": [
       "0    64\n",
       "1    56\n",
       "2    80\n",
       "3    66\n",
       "Name: edades, dtype: int64"
      ]
     },
     "execution_count": 74,
     "metadata": {},
     "output_type": "execute_result"
    }
   ],
   "source": [
    "personas[\"edades\"].apply(doblar)"
   ]
  },
  {
   "cell_type": "code",
   "execution_count": 75,
   "id": "bcd0df98-d1d4-47fd-8eef-eccfa479003a",
   "metadata": {},
   "outputs": [
    {
     "data": {
      "text/plain": [
       "'IVAN'"
      ]
     },
     "execution_count": 75,
     "metadata": {},
     "output_type": "execute_result"
    }
   ],
   "source": [
    "def mayusculas(texto):\n",
    "    return texto.upper()\n",
    "\n",
    "mayusculas(\"ivan\")"
   ]
  },
  {
   "cell_type": "code",
   "execution_count": 77,
   "id": "4a577cd0-f9fe-431f-9948-814ab71b1e8c",
   "metadata": {},
   "outputs": [],
   "source": [
    "personas[\"nombres\"]=personas[\"nombres\"].apply(mayusculas)"
   ]
  },
  {
   "cell_type": "code",
   "execution_count": 78,
   "id": "840df90d-4bd5-4254-a0d3-b90e9ee6553d",
   "metadata": {},
   "outputs": [
    {
     "data": {
      "text/html": [
       "<div>\n",
       "<style scoped>\n",
       "    .dataframe tbody tr th:only-of-type {\n",
       "        vertical-align: middle;\n",
       "    }\n",
       "\n",
       "    .dataframe tbody tr th {\n",
       "        vertical-align: top;\n",
       "    }\n",
       "\n",
       "    .dataframe thead th {\n",
       "        text-align: right;\n",
       "    }\n",
       "</style>\n",
       "<table border=\"1\" class=\"dataframe\">\n",
       "  <thead>\n",
       "    <tr style=\"text-align: right;\">\n",
       "      <th></th>\n",
       "      <th>nombres</th>\n",
       "      <th>edades</th>\n",
       "    </tr>\n",
       "  </thead>\n",
       "  <tbody>\n",
       "    <tr>\n",
       "      <th>0</th>\n",
       "      <td>IVAN</td>\n",
       "      <td>32</td>\n",
       "    </tr>\n",
       "    <tr>\n",
       "      <th>1</th>\n",
       "      <td>DAVID</td>\n",
       "      <td>28</td>\n",
       "    </tr>\n",
       "    <tr>\n",
       "      <th>2</th>\n",
       "      <td>JERO</td>\n",
       "      <td>40</td>\n",
       "    </tr>\n",
       "    <tr>\n",
       "      <th>3</th>\n",
       "      <td>JESÚS</td>\n",
       "      <td>33</td>\n",
       "    </tr>\n",
       "  </tbody>\n",
       "</table>\n",
       "</div>"
      ],
      "text/plain": [
       "  nombres  edades\n",
       "0    IVAN      32\n",
       "1   DAVID      28\n",
       "2    JERO      40\n",
       "3   JESÚS      33"
      ]
     },
     "execution_count": 78,
     "metadata": {},
     "output_type": "execute_result"
    }
   ],
   "source": [
    "personas"
   ]
  },
  {
   "cell_type": "code",
   "execution_count": 80,
   "id": "dded6454-c09f-4892-9d05-fa196bb6b130",
   "metadata": {},
   "outputs": [
    {
     "data": {
      "text/plain": [
       "0    160\n",
       "1    140\n",
       "2    200\n",
       "3    165\n",
       "Name: edades, dtype: int64"
      ]
     },
     "execution_count": 80,
     "metadata": {},
     "output_type": "execute_result"
    }
   ],
   "source": [
    "def creadora_funcion_multiplicar(factor):\n",
    "    def multiplicar(numero):\n",
    "        return numero*factor\n",
    "    return multiplicar\n",
    "\n",
    "personas[\"edades\"].apply(creadora_funcion_multiplicar(5))"
   ]
  },
  {
   "cell_type": "code",
   "execution_count": 81,
   "id": "c1cf1beb-5060-4472-9ad4-09561fdf0aca",
   "metadata": {},
   "outputs": [
    {
     "data": {
      "text/plain": [
       "0    64\n",
       "1    56\n",
       "2    80\n",
       "3    66\n",
       "Name: edades, dtype: int64"
      ]
     },
     "execution_count": 81,
     "metadata": {},
     "output_type": "execute_result"
    }
   ],
   "source": [
    "personas[\"edades\"] * 2 "
   ]
  },
  {
   "cell_type": "code",
   "execution_count": 83,
   "id": "b7159ed3-0d66-4480-99dd-c64a91ea95ce",
   "metadata": {},
   "outputs": [
    {
     "data": {
      "text/plain": [
       "0     True\n",
       "1    False\n",
       "2     True\n",
       "3     True\n",
       "Name: edades, dtype: bool"
      ]
     },
     "execution_count": 83,
     "metadata": {},
     "output_type": "execute_result"
    }
   ],
   "source": [
    "personas[\"edades\"] > 30 # Array lógico : < > <= >= == !="
   ]
  },
  {
   "cell_type": "code",
   "execution_count": 89,
   "id": "cbc80ccc-0f6d-49d0-b4cc-f03207f2f19a",
   "metadata": {},
   "outputs": [
    {
     "data": {
      "text/html": [
       "<div>\n",
       "<style scoped>\n",
       "    .dataframe tbody tr th:only-of-type {\n",
       "        vertical-align: middle;\n",
       "    }\n",
       "\n",
       "    .dataframe tbody tr th {\n",
       "        vertical-align: top;\n",
       "    }\n",
       "\n",
       "    .dataframe thead th {\n",
       "        text-align: right;\n",
       "    }\n",
       "</style>\n",
       "<table border=\"1\" class=\"dataframe\">\n",
       "  <thead>\n",
       "    <tr style=\"text-align: right;\">\n",
       "      <th></th>\n",
       "      <th>nombres</th>\n",
       "      <th>edades</th>\n",
       "    </tr>\n",
       "  </thead>\n",
       "  <tbody>\n",
       "    <tr>\n",
       "      <th>0</th>\n",
       "      <td>IVAN</td>\n",
       "      <td>32</td>\n",
       "    </tr>\n",
       "    <tr>\n",
       "      <th>3</th>\n",
       "      <td>JESÚS</td>\n",
       "      <td>33</td>\n",
       "    </tr>\n",
       "  </tbody>\n",
       "</table>\n",
       "</div>"
      ],
      "text/plain": [
       "  nombres  edades\n",
       "0    IVAN      32\n",
       "3   JESÚS      33"
      ]
     },
     "execution_count": 89,
     "metadata": {},
     "output_type": "execute_result"
    }
   ],
   "source": [
    "personas[ [True, False, False, True] ] # Filtrar"
   ]
  },
  {
   "cell_type": "code",
   "execution_count": 90,
   "id": "76de400e-2cd4-4922-a371-30a00e3452f9",
   "metadata": {},
   "outputs": [
    {
     "data": {
      "text/html": [
       "<div>\n",
       "<style scoped>\n",
       "    .dataframe tbody tr th:only-of-type {\n",
       "        vertical-align: middle;\n",
       "    }\n",
       "\n",
       "    .dataframe tbody tr th {\n",
       "        vertical-align: top;\n",
       "    }\n",
       "\n",
       "    .dataframe thead th {\n",
       "        text-align: right;\n",
       "    }\n",
       "</style>\n",
       "<table border=\"1\" class=\"dataframe\">\n",
       "  <thead>\n",
       "    <tr style=\"text-align: right;\">\n",
       "      <th></th>\n",
       "      <th>nombres</th>\n",
       "      <th>edades</th>\n",
       "    </tr>\n",
       "  </thead>\n",
       "  <tbody>\n",
       "    <tr>\n",
       "      <th>0</th>\n",
       "      <td>IVAN</td>\n",
       "      <td>32</td>\n",
       "    </tr>\n",
       "    <tr>\n",
       "      <th>2</th>\n",
       "      <td>JERO</td>\n",
       "      <td>40</td>\n",
       "    </tr>\n",
       "    <tr>\n",
       "      <th>3</th>\n",
       "      <td>JESÚS</td>\n",
       "      <td>33</td>\n",
       "    </tr>\n",
       "  </tbody>\n",
       "</table>\n",
       "</div>"
      ],
      "text/plain": [
       "  nombres  edades\n",
       "0    IVAN      32\n",
       "2    JERO      40\n",
       "3   JESÚS      33"
      ]
     },
     "execution_count": 90,
     "metadata": {},
     "output_type": "execute_result"
    }
   ],
   "source": [
    "personas[ personas[\"edades\"]>30 ]"
   ]
  },
  {
   "cell_type": "code",
   "execution_count": 94,
   "id": "d462b294-e9d1-401c-b4fe-7ea4b1ff892e",
   "metadata": {},
   "outputs": [
    {
     "data": {
      "text/html": [
       "<div>\n",
       "<style scoped>\n",
       "    .dataframe tbody tr th:only-of-type {\n",
       "        vertical-align: middle;\n",
       "    }\n",
       "\n",
       "    .dataframe tbody tr th {\n",
       "        vertical-align: top;\n",
       "    }\n",
       "\n",
       "    .dataframe thead th {\n",
       "        text-align: right;\n",
       "    }\n",
       "</style>\n",
       "<table border=\"1\" class=\"dataframe\">\n",
       "  <thead>\n",
       "    <tr style=\"text-align: right;\">\n",
       "      <th></th>\n",
       "      <th>nombres</th>\n",
       "      <th>edades</th>\n",
       "    </tr>\n",
       "  </thead>\n",
       "  <tbody>\n",
       "    <tr>\n",
       "      <th>0</th>\n",
       "      <td>Ivan</td>\n",
       "      <td>32</td>\n",
       "    </tr>\n",
       "    <tr>\n",
       "      <th>1</th>\n",
       "      <td>David</td>\n",
       "      <td>28</td>\n",
       "    </tr>\n",
       "    <tr>\n",
       "      <th>2</th>\n",
       "      <td>Jero</td>\n",
       "      <td>40</td>\n",
       "    </tr>\n",
       "    <tr>\n",
       "      <th>3</th>\n",
       "      <td>Jesús</td>\n",
       "      <td>33</td>\n",
       "    </tr>\n",
       "    <tr>\n",
       "      <th>4</th>\n",
       "      <td>Ivan</td>\n",
       "      <td>132</td>\n",
       "    </tr>\n",
       "    <tr>\n",
       "      <th>5</th>\n",
       "      <td>David</td>\n",
       "      <td>128</td>\n",
       "    </tr>\n",
       "    <tr>\n",
       "      <th>6</th>\n",
       "      <td>Jero</td>\n",
       "      <td>140</td>\n",
       "    </tr>\n",
       "    <tr>\n",
       "      <th>7</th>\n",
       "      <td>Jesús</td>\n",
       "      <td>133</td>\n",
       "    </tr>\n",
       "  </tbody>\n",
       "</table>\n",
       "</div>"
      ],
      "text/plain": [
       "  nombres  edades\n",
       "0    Ivan      32\n",
       "1   David      28\n",
       "2    Jero      40\n",
       "3   Jesús      33\n",
       "4    Ivan     132\n",
       "5   David     128\n",
       "6    Jero     140\n",
       "7   Jesús     133"
      ]
     },
     "execution_count": 94,
     "metadata": {},
     "output_type": "execute_result"
    }
   ],
   "source": [
    "datos_nombres = ( \"Ivan\", \"David\", \"Jero\", \"Jesús\" , \"Ivan\", \"David\", \"Jero\", \"Jesús\" )\n",
    "datos_edades = ( 32,28, 40, 33 , 132,128, 140, 133 ) \n",
    "diccionario_personas = { \"nombres\": datos_nombres , \"edades\": datos_edades}\n",
    "personas = pd.DataFrame(diccionario_personas)\n",
    "personas"
   ]
  },
  {
   "cell_type": "code",
   "execution_count": 95,
   "id": "edc6645b-e1ab-4720-9205-6bdd87f81fe0",
   "metadata": {},
   "outputs": [
    {
     "data": {
      "text/plain": [
       "0     32\n",
       "1     60\n",
       "2    100\n",
       "3    133\n",
       "4    265\n",
       "5    393\n",
       "6    533\n",
       "7    666\n",
       "Name: edades, dtype: int64"
      ]
     },
     "execution_count": 95,
     "metadata": {},
     "output_type": "execute_result"
    }
   ],
   "source": [
    "personas[\"edades\"].cumsum()"
   ]
  },
  {
   "cell_type": "code",
   "execution_count": 96,
   "id": "6321348e-aaa8-4005-ab11-284927a28566",
   "metadata": {},
   "outputs": [
    {
     "data": {
      "text/plain": [
       "array(['Ivan', 'David', 'Jero', 'Jesús'], dtype=object)"
      ]
     },
     "execution_count": 96,
     "metadata": {},
     "output_type": "execute_result"
    }
   ],
   "source": [
    "personas[\"nombres\"].unique()"
   ]
  },
  {
   "cell_type": "code",
   "execution_count": 97,
   "id": "66bec38f-00c9-4691-a58e-80dad0ac05ff",
   "metadata": {},
   "outputs": [
    {
     "data": {
      "text/plain": [
       "Ivan     2\n",
       "David    2\n",
       "Jero     2\n",
       "Jesús    2\n",
       "Name: nombres, dtype: int64"
      ]
     },
     "execution_count": 97,
     "metadata": {},
     "output_type": "execute_result"
    }
   ],
   "source": [
    "personas[\"nombres\"].value_counts() # Tabla de frecuencias"
   ]
  },
  {
   "cell_type": "code",
   "execution_count": 98,
   "id": "b9832d20-7a58-47a3-bba1-905aa017f936",
   "metadata": {},
   "outputs": [
    {
     "data": {
      "text/plain": [
       "28"
      ]
     },
     "execution_count": 98,
     "metadata": {},
     "output_type": "execute_result"
    }
   ],
   "source": [
    "personas[\"edades\"].min() # max mean median std"
   ]
  },
  {
   "cell_type": "code",
   "execution_count": 102,
   "id": "58a98a9f-13d7-4d66-bb78-a9e958280e2e",
   "metadata": {},
   "outputs": [
    {
     "data": {
      "text/plain": [
       "nombres\n",
       "David    156\n",
       "Ivan     164\n",
       "Jero     180\n",
       "Jesús    166\n",
       "Name: edades, dtype: int64"
      ]
     },
     "execution_count": 102,
     "metadata": {},
     "output_type": "execute_result"
    }
   ],
   "source": [
    "personas.groupby(\"nombres\")[\"edades\"].sum()\n",
    "# SELECT SUM(edades) FROM personas GROUP BY nombres;"
   ]
  },
  {
   "cell_type": "code",
   "execution_count": 103,
   "id": "0a763b20-64d1-4ff3-8ece-5b69e90a9173",
   "metadata": {},
   "outputs": [
    {
     "data": {
      "text/html": [
       "<div>\n",
       "<style scoped>\n",
       "    .dataframe tbody tr th:only-of-type {\n",
       "        vertical-align: middle;\n",
       "    }\n",
       "\n",
       "    .dataframe tbody tr th {\n",
       "        vertical-align: top;\n",
       "    }\n",
       "\n",
       "    .dataframe thead th {\n",
       "        text-align: right;\n",
       "    }\n",
       "</style>\n",
       "<table border=\"1\" class=\"dataframe\">\n",
       "  <thead>\n",
       "    <tr style=\"text-align: right;\">\n",
       "      <th></th>\n",
       "      <th>edades</th>\n",
       "    </tr>\n",
       "  </thead>\n",
       "  <tbody>\n",
       "    <tr>\n",
       "      <th>count</th>\n",
       "      <td>8.000000</td>\n",
       "    </tr>\n",
       "    <tr>\n",
       "      <th>mean</th>\n",
       "      <td>83.250000</td>\n",
       "    </tr>\n",
       "    <tr>\n",
       "      <th>std</th>\n",
       "      <td>53.651654</td>\n",
       "    </tr>\n",
       "    <tr>\n",
       "      <th>min</th>\n",
       "      <td>28.000000</td>\n",
       "    </tr>\n",
       "    <tr>\n",
       "      <th>25%</th>\n",
       "      <td>32.750000</td>\n",
       "    </tr>\n",
       "    <tr>\n",
       "      <th>50%</th>\n",
       "      <td>84.000000</td>\n",
       "    </tr>\n",
       "    <tr>\n",
       "      <th>75%</th>\n",
       "      <td>132.250000</td>\n",
       "    </tr>\n",
       "    <tr>\n",
       "      <th>max</th>\n",
       "      <td>140.000000</td>\n",
       "    </tr>\n",
       "  </tbody>\n",
       "</table>\n",
       "</div>"
      ],
      "text/plain": [
       "           edades\n",
       "count    8.000000\n",
       "mean    83.250000\n",
       "std     53.651654\n",
       "min     28.000000\n",
       "25%     32.750000\n",
       "50%     84.000000\n",
       "75%    132.250000\n",
       "max    140.000000"
      ]
     },
     "execution_count": 103,
     "metadata": {},
     "output_type": "execute_result"
    }
   ],
   "source": [
    "personas.describe()"
   ]
  },
  {
   "cell_type": "code",
   "execution_count": 104,
   "id": "1898e050-f0d6-4f38-bae0-37ea5813cfba",
   "metadata": {},
   "outputs": [
    {
     "data": {
      "text/plain": [
       "0     32\n",
       "1     28\n",
       "2     40\n",
       "3     33\n",
       "4    132\n",
       "5    128\n",
       "6    140\n",
       "7    133\n",
       "Name: edades, dtype: int64"
      ]
     },
     "execution_count": 104,
     "metadata": {},
     "output_type": "execute_result"
    }
   ],
   "source": [
    "personas[\"edades\"]"
   ]
  },
  {
   "cell_type": "code",
   "execution_count": 110,
   "id": "6645a0d3-236b-4204-bf97-099255c9fa6a",
   "metadata": {},
   "outputs": [
    {
     "data": {
      "text/plain": [
       "0    Dinasaurios\n",
       "1    Jovenzuelos\n",
       "2    Dinasaurios\n",
       "3    Dinasaurios\n",
       "4    Dinasaurios\n",
       "5    Dinasaurios\n",
       "6    Dinasaurios\n",
       "7    Dinasaurios\n",
       "Name: edades, dtype: category\n",
       "Categories (2, object): ['Jovenzuelos' < 'Dinasaurios']"
      ]
     },
     "execution_count": 110,
     "metadata": {},
     "output_type": "execute_result"
    }
   ],
   "source": [
    "pd.cut(personas[\"edades\"], (0,29,200), labels = (\"Jovenzuelos\", \"Dinasaurios\"))"
   ]
  },
  {
   "cell_type": "code",
   "execution_count": 109,
   "id": "a0bcc141-8897-4b5c-9e95-bd2ae91f1189",
   "metadata": {},
   "outputs": [
    {
     "data": {
      "text/plain": [
       "0    A\n",
       "1    A\n",
       "2    B\n",
       "3    A\n",
       "4    C\n",
       "5    B\n",
       "6    C\n",
       "7    C\n",
       "Name: edades, dtype: category\n",
       "Categories (3, object): ['A' < 'B' < 'C']"
      ]
     },
     "execution_count": 109,
     "metadata": {},
     "output_type": "execute_result"
    }
   ],
   "source": [
    "pd.qcut(personas[\"edades\"], 3, labels = [\"A\", \"B\", \"C\" ])"
   ]
  },
  {
   "cell_type": "code",
   "execution_count": 112,
   "id": "6362c9dd-46f8-4e82-9c4e-3fc70fb01dad",
   "metadata": {},
   "outputs": [
    {
     "data": {
      "text/html": [
       "<div>\n",
       "<style scoped>\n",
       "    .dataframe tbody tr th:only-of-type {\n",
       "        vertical-align: middle;\n",
       "    }\n",
       "\n",
       "    .dataframe tbody tr th {\n",
       "        vertical-align: top;\n",
       "    }\n",
       "\n",
       "    .dataframe thead th {\n",
       "        text-align: right;\n",
       "    }\n",
       "</style>\n",
       "<table border=\"1\" class=\"dataframe\">\n",
       "  <thead>\n",
       "    <tr style=\"text-align: right;\">\n",
       "      <th></th>\n",
       "      <th>nombres</th>\n",
       "      <th>edades</th>\n",
       "    </tr>\n",
       "  </thead>\n",
       "  <tbody>\n",
       "    <tr>\n",
       "      <th>0</th>\n",
       "      <td>Ivan</td>\n",
       "      <td>32.0</td>\n",
       "    </tr>\n",
       "    <tr>\n",
       "      <th>1</th>\n",
       "      <td>David</td>\n",
       "      <td>28.0</td>\n",
       "    </tr>\n",
       "    <tr>\n",
       "      <th>2</th>\n",
       "      <td>Jero</td>\n",
       "      <td>40.0</td>\n",
       "    </tr>\n",
       "    <tr>\n",
       "      <th>3</th>\n",
       "      <td>NaN</td>\n",
       "      <td>33.0</td>\n",
       "    </tr>\n",
       "    <tr>\n",
       "      <th>4</th>\n",
       "      <td>Ivan</td>\n",
       "      <td>132.0</td>\n",
       "    </tr>\n",
       "    <tr>\n",
       "      <th>5</th>\n",
       "      <td>David</td>\n",
       "      <td>128.0</td>\n",
       "    </tr>\n",
       "    <tr>\n",
       "      <th>6</th>\n",
       "      <td>Jero</td>\n",
       "      <td>NaN</td>\n",
       "    </tr>\n",
       "    <tr>\n",
       "      <th>7</th>\n",
       "      <td>Jesús</td>\n",
       "      <td>133.0</td>\n",
       "    </tr>\n",
       "  </tbody>\n",
       "</table>\n",
       "</div>"
      ],
      "text/plain": [
       "  nombres  edades\n",
       "0    Ivan    32.0\n",
       "1   David    28.0\n",
       "2    Jero    40.0\n",
       "3     NaN    33.0\n",
       "4    Ivan   132.0\n",
       "5   David   128.0\n",
       "6    Jero     NaN\n",
       "7   Jesús   133.0"
      ]
     },
     "execution_count": 112,
     "metadata": {},
     "output_type": "execute_result"
    }
   ],
   "source": [
    "import numpy as np # Libreria que existe en python para trabajo matricial\n",
    "\n",
    "datos_nombres = ( \"Ivan\", \"David\", \"Jero\", np.NaN , \"Ivan\", \"David\", \"Jero\", \"Jesús\" )\n",
    "datos_edades = ( 32,28, 40, 33 , 132,128, np.NaN , 133 ) \n",
    "diccionario_personas = { \"nombres\": datos_nombres , \"edades\": datos_edades}\n",
    "personas = pd.DataFrame(diccionario_personas)\n",
    "personas"
   ]
  },
  {
   "cell_type": "code",
   "execution_count": 113,
   "id": "47d927a0-e9fc-46c5-b92a-6ff62f96caad",
   "metadata": {},
   "outputs": [
    {
     "data": {
      "text/html": [
       "<div>\n",
       "<style scoped>\n",
       "    .dataframe tbody tr th:only-of-type {\n",
       "        vertical-align: middle;\n",
       "    }\n",
       "\n",
       "    .dataframe tbody tr th {\n",
       "        vertical-align: top;\n",
       "    }\n",
       "\n",
       "    .dataframe thead th {\n",
       "        text-align: right;\n",
       "    }\n",
       "</style>\n",
       "<table border=\"1\" class=\"dataframe\">\n",
       "  <thead>\n",
       "    <tr style=\"text-align: right;\">\n",
       "      <th></th>\n",
       "      <th>nombres</th>\n",
       "      <th>edades</th>\n",
       "    </tr>\n",
       "  </thead>\n",
       "  <tbody>\n",
       "    <tr>\n",
       "      <th>0</th>\n",
       "      <td>False</td>\n",
       "      <td>False</td>\n",
       "    </tr>\n",
       "    <tr>\n",
       "      <th>1</th>\n",
       "      <td>False</td>\n",
       "      <td>False</td>\n",
       "    </tr>\n",
       "    <tr>\n",
       "      <th>2</th>\n",
       "      <td>False</td>\n",
       "      <td>False</td>\n",
       "    </tr>\n",
       "    <tr>\n",
       "      <th>3</th>\n",
       "      <td>True</td>\n",
       "      <td>False</td>\n",
       "    </tr>\n",
       "    <tr>\n",
       "      <th>4</th>\n",
       "      <td>False</td>\n",
       "      <td>False</td>\n",
       "    </tr>\n",
       "    <tr>\n",
       "      <th>5</th>\n",
       "      <td>False</td>\n",
       "      <td>False</td>\n",
       "    </tr>\n",
       "    <tr>\n",
       "      <th>6</th>\n",
       "      <td>False</td>\n",
       "      <td>True</td>\n",
       "    </tr>\n",
       "    <tr>\n",
       "      <th>7</th>\n",
       "      <td>False</td>\n",
       "      <td>False</td>\n",
       "    </tr>\n",
       "  </tbody>\n",
       "</table>\n",
       "</div>"
      ],
      "text/plain": [
       "   nombres  edades\n",
       "0    False   False\n",
       "1    False   False\n",
       "2    False   False\n",
       "3     True   False\n",
       "4    False   False\n",
       "5    False   False\n",
       "6    False    True\n",
       "7    False   False"
      ]
     },
     "execution_count": 113,
     "metadata": {},
     "output_type": "execute_result"
    }
   ],
   "source": [
    "personas.isna()"
   ]
  },
  {
   "cell_type": "code",
   "execution_count": 116,
   "id": "a2f21a51-f81d-4aba-99c2-f72e8e793284",
   "metadata": {},
   "outputs": [
    {
     "data": {
      "text/html": [
       "<div>\n",
       "<style scoped>\n",
       "    .dataframe tbody tr th:only-of-type {\n",
       "        vertical-align: middle;\n",
       "    }\n",
       "\n",
       "    .dataframe tbody tr th {\n",
       "        vertical-align: top;\n",
       "    }\n",
       "\n",
       "    .dataframe thead th {\n",
       "        text-align: right;\n",
       "    }\n",
       "</style>\n",
       "<table border=\"1\" class=\"dataframe\">\n",
       "  <thead>\n",
       "    <tr style=\"text-align: right;\">\n",
       "      <th></th>\n",
       "      <th>nombres</th>\n",
       "      <th>edades</th>\n",
       "    </tr>\n",
       "  </thead>\n",
       "  <tbody>\n",
       "    <tr>\n",
       "      <th>6</th>\n",
       "      <td>Jero</td>\n",
       "      <td>NaN</td>\n",
       "    </tr>\n",
       "  </tbody>\n",
       "</table>\n",
       "</div>"
      ],
      "text/plain": [
       "  nombres  edades\n",
       "6    Jero     NaN"
      ]
     },
     "execution_count": 116,
     "metadata": {},
     "output_type": "execute_result"
    }
   ],
   "source": [
    "personas[ personas[\"edades\"].isna() ]"
   ]
  },
  {
   "cell_type": "code",
   "execution_count": 117,
   "id": "e3b15229-2c68-4165-877f-4da4a79e5807",
   "metadata": {},
   "outputs": [
    {
     "data": {
      "text/plain": [
       "0     32.0\n",
       "1     28.0\n",
       "2     40.0\n",
       "3     33.0\n",
       "4    132.0\n",
       "5    128.0\n",
       "6    -99.0\n",
       "7    133.0\n",
       "Name: edades, dtype: float64"
      ]
     },
     "execution_count": 117,
     "metadata": {},
     "output_type": "execute_result"
    }
   ],
   "source": [
    "personas[\"edades\"].fillna(-99)"
   ]
  },
  {
   "cell_type": "code",
   "execution_count": 118,
   "id": "85b025a0-0eb7-4f88-82db-3734f34b1849",
   "metadata": {},
   "outputs": [
    {
     "data": {
      "text/plain": [
       "0     32.0\n",
       "1     28.0\n",
       "2     40.0\n",
       "3     33.0\n",
       "4    132.0\n",
       "5    128.0\n",
       "6    -10.0\n",
       "7    133.0\n",
       "Name: edades, dtype: float64"
      ]
     },
     "execution_count": 118,
     "metadata": {},
     "output_type": "execute_result"
    }
   ],
   "source": [
    "personas[\"edades\"].replace(np.NaN, -10)"
   ]
  },
  {
   "cell_type": "code",
   "execution_count": 120,
   "id": "73cee156-2b5f-4b37-a299-29c7166aacc1",
   "metadata": {},
   "outputs": [
    {
     "data": {
      "text/html": [
       "<div>\n",
       "<style scoped>\n",
       "    .dataframe tbody tr th:only-of-type {\n",
       "        vertical-align: middle;\n",
       "    }\n",
       "\n",
       "    .dataframe tbody tr th {\n",
       "        vertical-align: top;\n",
       "    }\n",
       "\n",
       "    .dataframe thead th {\n",
       "        text-align: right;\n",
       "    }\n",
       "</style>\n",
       "<table border=\"1\" class=\"dataframe\">\n",
       "  <thead>\n",
       "    <tr style=\"text-align: right;\">\n",
       "      <th></th>\n",
       "      <th>nombres</th>\n",
       "      <th>edades</th>\n",
       "    </tr>\n",
       "  </thead>\n",
       "  <tbody>\n",
       "    <tr>\n",
       "      <th>0</th>\n",
       "      <td>Ivan</td>\n",
       "      <td>32.0</td>\n",
       "    </tr>\n",
       "    <tr>\n",
       "      <th>1</th>\n",
       "      <td>David</td>\n",
       "      <td>28.0</td>\n",
       "    </tr>\n",
       "    <tr>\n",
       "      <th>2</th>\n",
       "      <td>Jero</td>\n",
       "      <td>40.0</td>\n",
       "    </tr>\n",
       "    <tr>\n",
       "      <th>4</th>\n",
       "      <td>Ivan</td>\n",
       "      <td>132.0</td>\n",
       "    </tr>\n",
       "    <tr>\n",
       "      <th>5</th>\n",
       "      <td>David</td>\n",
       "      <td>128.0</td>\n",
       "    </tr>\n",
       "    <tr>\n",
       "      <th>7</th>\n",
       "      <td>Jesús</td>\n",
       "      <td>133.0</td>\n",
       "    </tr>\n",
       "  </tbody>\n",
       "</table>\n",
       "</div>"
      ],
      "text/plain": [
       "  nombres  edades\n",
       "0    Ivan    32.0\n",
       "1   David    28.0\n",
       "2    Jero    40.0\n",
       "4    Ivan   132.0\n",
       "5   David   128.0\n",
       "7   Jesús   133.0"
      ]
     },
     "execution_count": 120,
     "metadata": {},
     "output_type": "execute_result"
    }
   ],
   "source": [
    "personas.dropna()"
   ]
  },
  {
   "cell_type": "code",
   "execution_count": null,
   "id": "153ee783-f4dd-42ff-bbe3-91c1936bb553",
   "metadata": {},
   "outputs": [],
   "source": []
  }
 ],
 "metadata": {
  "kernelspec": {
   "display_name": "Python 3 (ipykernel)",
   "language": "python",
   "name": "python3"
  },
  "language_info": {
   "codemirror_mode": {
    "name": "ipython",
    "version": 3
   },
   "file_extension": ".py",
   "mimetype": "text/x-python",
   "name": "python",
   "nbconvert_exporter": "python",
   "pygments_lexer": "ipython3",
   "version": "3.10.6"
  }
 },
 "nbformat": 4,
 "nbformat_minor": 5
}
